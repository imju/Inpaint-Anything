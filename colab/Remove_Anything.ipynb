{
  "nbformat": 4,
  "nbformat_minor": 0,
  "metadata": {
    "colab": {
      "provenance": [],
      "gpuType": "T4"
    },
    "kernelspec": {
      "name": "python3",
      "display_name": "Python 3"
    },
    "language_info": {
      "name": "python"
    },
    "accelerator": "GPU"
  },
  "cells": [
    {
      "cell_type": "code",
      "source": [
        "!pip install --ignore-installed Pillow==9.0.0\n",
        "!pip install -Uqq torch torchvision opencv-python matplotlib==3.7.1 tensorflow==2.13.0rc0\n",
        "!pip install -Uqq pyyaml tqdm numba==0.57 numpy easydict scikit-image scikit-learn opencv-python\n",
        "!pip install -Uqq joblib matplotlib albumentations==0.5.2 hydra-core\n",
        "!pip install -Uqq pytorch-lightning tabulate kornia==0.5.0 webdataset packaging wldhx.yadisk-direct\n",
        "!pip install -Uqq gradio \n"
      ],
      "metadata": {
        "id": "4yXwoucS73xx"
      },
      "execution_count": null,
      "outputs": []
    },
    {
      "cell_type": "code",
      "execution_count": null,
      "metadata": {
        "id": "2_xvmJXUot9K",
        "colab": {
          "base_uri": "https://localhost:8080/"
        },
        "outputId": "daee65ae-91a5-4406-8856-9ef451c4ff16"
      },
      "outputs": [
        {
          "output_type": "stream",
          "name": "stdout",
          "text": [
            "Cloning into 'Inpaint-Anything'...\n",
            "remote: Enumerating objects: 1902, done.\u001b[K\n",
            "remote: Counting objects: 100% (425/425), done.\u001b[K\n",
            "remote: Compressing objects: 100% (273/273), done.\u001b[K\n",
            "remote: Total 1902 (delta 166), reused 373 (delta 146), pack-reused 1477\u001b[K\n",
            "Receiving objects: 100% (1902/1902), 290.82 MiB | 18.29 MiB/s, done.\n",
            "Resolving deltas: 100% (544/544), done.\n",
            "Updating files: 100% (676/676), done.\n"
          ]
        }
      ],
      "source": [
        "!git clone https://github.com/imju/Inpaint-Anything"
      ]
    },
    {
      "cell_type": "code",
      "source": [
        "#mount the github repo folder \n",
        "import sys\n",
        "sys.path.insert(0,'/content/Inpaint-Anything')\n",
        "sys.path.insert(0,'/content/Inpaint-Anything/segment_anything')"
      ],
      "metadata": {
        "id": "o84osioQAAaz"
      },
      "execution_count": null,
      "outputs": []
    },
    {
      "cell_type": "code",
      "source": [
        "#download the google drive files, default.yaml, weights, checkpoints \n",
        "#config.yaml for lama\n",
        "!gdown --id 1F6aP4DI_FjVXG9CSBTa-Avp7CMPJM8k0 \n",
        "#sam_vit_h_4b8939\n",
        "!gdown --id 1ZfKal2o7zZUfjCFYGmKz9w1BLwU4TYX7\n",
        "#lama checkpoint\n",
        "!gdown --id 1d5M-c5Ij8kMGx6aeCmnTKQhf5zWYAyi0\n",
        "#default.yaml\n",
        "#/content/Inpaint-Anything/lama/configs/prediction/default.yaml\n"
      ],
      "metadata": {
        "id": "6ou5P_jH-0hz",
        "colab": {
          "base_uri": "https://localhost:8080/"
        },
        "outputId": "95a72ed2-4530-4de9-b569-401fd1bcbbee"
      },
      "execution_count": null,
      "outputs": [
        {
          "output_type": "stream",
          "name": "stdout",
          "text": [
            "/usr/local/lib/python3.10/dist-packages/gdown/cli.py:121: FutureWarning: Option `--id` was deprecated in version 4.3.1 and will be removed in 5.0. You don't need to pass it anymore to use a file ID.\n",
            "  warnings.warn(\n",
            "Downloading...\n",
            "From: https://drive.google.com/uc?id=1F6aP4DI_FjVXG9CSBTa-Avp7CMPJM8k0\n",
            "To: /content/config.yaml\n",
            "100% 3.95k/3.95k [00:00<00:00, 15.0MB/s]\n",
            "/usr/local/lib/python3.10/dist-packages/gdown/cli.py:121: FutureWarning: Option `--id` was deprecated in version 4.3.1 and will be removed in 5.0. You don't need to pass it anymore to use a file ID.\n",
            "  warnings.warn(\n",
            "Downloading...\n",
            "From: https://drive.google.com/uc?id=1ZfKal2o7zZUfjCFYGmKz9w1BLwU4TYX7\n",
            "To: /content/sam_vit_h_4b8939.pth\n",
            "100% 2.56G/2.56G [00:25<00:00, 100MB/s] \n",
            "/usr/local/lib/python3.10/dist-packages/gdown/cli.py:121: FutureWarning: Option `--id` was deprecated in version 4.3.1 and will be removed in 5.0. You don't need to pass it anymore to use a file ID.\n",
            "  warnings.warn(\n",
            "Downloading...\n",
            "From: https://drive.google.com/uc?id=1d5M-c5Ij8kMGx6aeCmnTKQhf5zWYAyi0\n",
            "To: /content/best.ckpt\n",
            "100% 410M/410M [00:05<00:00, 71.4MB/s]\n"
          ]
        }
      ]
    },
    {
      "cell_type": "code",
      "source": [
        "import os\n",
        "import sys\n",
        "import gradio as gr\n",
        "import numpy as np\n",
        "from pathlib import Path\n",
        "from matplotlib import pyplot as plt\n",
        "import torch\n",
        "import tempfile\n",
        "from lama_inpaint import inpaint_img_with_lama, build_lama_model, inpaint_img_with_builded_lama\n",
        "from utils import load_img_to_array, save_array_to_img, dilate_mask, \\\n",
        "    show_mask, show_points\n",
        "from PIL import Image\n",
        "from segment_anything import SamPredictor, sam_model_registry\n",
        "import argparse"
      ],
      "metadata": {
        "colab": {
          "base_uri": "https://localhost:8080/"
        },
        "id": "v-myGSUX7h1S",
        "outputId": "eba26776-32e3-4c2f-d7fa-007d680d2729"
      },
      "execution_count": null,
      "outputs": [
        {
          "output_type": "stream",
          "name": "stdout",
          "text": [
            "Detectron v2 is not installed\n"
          ]
        }
      ]
    },
    {
      "cell_type": "code",
      "source": [
        "def setup_args(parser):\n",
        "    parser.add_argument(\n",
        "        \"--lama_config\", type=str,\n",
        "        default=\"/content/Inpaint-Anything/lama/configs/prediction/default.yaml\",\n",
        "        help=\"The path to the config file of lama model. \"\n",
        "             \"Default: the config of big-lama\",\n",
        "    )\n",
        "    parser.add_argument(\n",
        "        \"--lama_ckpt\", type=str,\n",
        "        default=\"/content/\",\n",
        "        help=\"The path to the lama checkpoint.\",\n",
        "    )\n",
        "    parser.add_argument(\n",
        "        \"--sam_ckpt\", type=str,\n",
        "        default=\"/content/sam_vit_h_4b8939.pth\",\n",
        "        help=\"The path to the SAM checkpoint to use for mask generation.\",\n",
        "    )"
      ],
      "metadata": {
        "id": "T5V6S0a5920u"
      },
      "execution_count": null,
      "outputs": []
    },
    {
      "cell_type": "code",
      "source": [
        "#moving best.ckpt to the models folder for model instantiation\n",
        "os.mkdir('/content/models')\n",
        "os.replace('/content/best.ckpt', '/content/models/best.ckpt')"
      ],
      "metadata": {
        "id": "3Rlh9_4mBMXP"
      },
      "execution_count": null,
      "outputs": []
    },
    {
      "cell_type": "code",
      "source": [
        "def mkstemp(suffix, dir=None):\n",
        "    fd, path = tempfile.mkstemp(suffix=f\"{suffix}\", dir=dir)\n",
        "    os.close(fd)\n",
        "    return Path(path)\n"
      ],
      "metadata": {
        "id": "3exTAjV6803B"
      },
      "execution_count": null,
      "outputs": []
    },
    {
      "cell_type": "code",
      "source": [
        "def get_sam_feat(img):\n",
        "    model['sam'].set_image(img)\n",
        "    features = model['sam'].features \n",
        "    orig_h = model['sam'].orig_h \n",
        "    orig_w = model['sam'].orig_w \n",
        "    input_h = model['sam'].input_h \n",
        "    input_w = model['sam'].input_w \n",
        "    model['sam'].reset_image()\n",
        "    return features, orig_h, orig_w, input_h, input_w"
      ],
      "metadata": {
        "id": "QYmZV1WJ84RH"
      },
      "execution_count": null,
      "outputs": []
    },
    {
      "cell_type": "code",
      "source": [
        "def get_masked_img(img, w, h, features, orig_h, orig_w, input_h, input_w, dilate_kernel_size):\n",
        "    point_coords = [w, h]\n",
        "    point_labels = [1]\n",
        "\n",
        "    model['sam'].is_image_set = True\n",
        "    model['sam'].features = features\n",
        "    model['sam'].orig_h = orig_h\n",
        "    model['sam'].orig_w = orig_w\n",
        "    model['sam'].input_h = input_h\n",
        "    model['sam'].input_w = input_w\n",
        "\n",
        "    # model['sam'].set_image(img) # todo : update here for accelerating\n",
        "    masks, _, _ = model['sam'].predict(\n",
        "        point_coords=np.array([point_coords]),\n",
        "        point_labels=np.array(point_labels),\n",
        "        multimask_output=True,\n",
        "    )\n",
        "\n",
        "    masks = masks.astype(np.uint8) * 255\n",
        "\n",
        "    # dilate mask to avoid unmasked edge effect\n",
        "    if dilate_kernel_size is not None:\n",
        "        masks = [dilate_mask(mask, dilate_kernel_size) for mask in masks]\n",
        "    else:\n",
        "        masks = [mask for mask in masks]\n",
        "\n",
        "    figs = []\n",
        "    for idx, mask in enumerate(masks):\n",
        "        # save the pointed and masked image\n",
        "        tmp_p = mkstemp(\".png\")\n",
        "        dpi = plt.rcParams['figure.dpi']\n",
        "        height, width = img.shape[:2]\n",
        "        fig = plt.figure(figsize=(width/dpi/0.77, height/dpi/0.77))\n",
        "        plt.imshow(img)\n",
        "        plt.axis('off')\n",
        "        show_points(plt.gca(), [point_coords], point_labels,\n",
        "                    size=(width*0.04)**2)\n",
        "        show_mask(plt.gca(), mask, random_color=False)\n",
        "        plt.tight_layout()\n",
        "        plt.savefig(tmp_p, bbox_inches='tight', pad_inches=0)\n",
        "        figs.append(fig)\n",
        "        plt.close()\n",
        "    return *figs, *masks\n"
      ],
      "metadata": {
        "id": "Mmvkd7Ix87mc"
      },
      "execution_count": null,
      "outputs": []
    },
    {
      "cell_type": "code",
      "source": [
        "def get_inpainted_img(img, mask0, mask1, mask2):\n",
        "    lama_config = args.lama_config\n",
        "    device = \"cuda\" if torch.cuda.is_available() else \"cpu\"\n",
        "    out = []\n",
        "    for mask in [mask0, mask1, mask2]:\n",
        "        if len(mask.shape)==3:\n",
        "            mask = mask[:,:,0]\n",
        "        img_inpainted = inpaint_img_with_builded_lama(\n",
        "            model['lama'], img, mask, lama_config, device=device)\n",
        "        out.append(img_inpainted)\n",
        "    return out"
      ],
      "metadata": {
        "id": "uwfdIgUr9BNP"
      },
      "execution_count": null,
      "outputs": []
    },
    {
      "cell_type": "code",
      "source": [
        "# Building models\n",
        "# get args \n",
        "\n",
        "parser = argparse.ArgumentParser()\n",
        "setup_args(parser)\n",
        "#args = parser.parse_args(sys.argv[1:])\n",
        "#for notebook only this works\n",
        "args = parser.parse_args(\"\")\n",
        "\n",
        "# build models\n",
        "model = {}\n",
        "# build the sam model\n",
        "model_type=\"vit_h\"\n",
        "ckpt_p=args.sam_ckpt\n",
        "model_sam = sam_model_registry[model_type](checkpoint=ckpt_p)\n",
        "device = \"cuda\" if torch.cuda.is_available() else \"cpu\"\n",
        "model_sam.to(device=device)\n",
        "model['sam'] = SamPredictor(model_sam)\n",
        "\n",
        "# build the lama model\n",
        "lama_config = args.lama_config\n",
        "lama_ckpt = args.lama_ckpt\n",
        "device = \"cuda\" if torch.cuda.is_available() else \"cpu\"\n",
        "model['lama'] = build_lama_model(lama_config, lama_ckpt, device=device)\n"
      ],
      "metadata": {
        "id": "iA8xD3909FBi"
      },
      "execution_count": null,
      "outputs": []
    },
    {
      "cell_type": "code",
      "source": [
        "#building the ui\n",
        "button_size = (100,50)\n",
        "with gr.Blocks() as demo:\n",
        "    features = gr.State(None)\n",
        "    orig_h = gr.State(None)\n",
        "    orig_w = gr.State(None)\n",
        "    input_h = gr.State(None)\n",
        "    input_w = gr.State(None)\n",
        "\n",
        "    with gr.Row().style(mobile_collapse=False, equal_height=True):\n",
        "        with gr.Column(variant=\"panel\"):\n",
        "            with gr.Row():\n",
        "                gr.Markdown(\"## Input Image\")\n",
        "            with gr.Row():\n",
        "                img = gr.Image(label=\"Input Image\").style(height=\"200px\")\n",
        "        with gr.Column(variant=\"panel\"):\n",
        "            with gr.Row():\n",
        "                gr.Markdown(\"## Pointed Image\")\n",
        "            with gr.Row():\n",
        "                img_pointed = gr.Plot(label='Pointed Image')\n",
        "        with gr.Column(variant=\"panel\"):\n",
        "            with gr.Row():\n",
        "                gr.Markdown(\"## Control Panel\")\n",
        "            with gr.Row():\n",
        "                w = gr.Number(label=\"Point Coordinate W\")\n",
        "                h = gr.Number(label=\"Point Coordinate H\")\n",
        "            dilate_kernel_size = gr.Slider(label=\"Dilate Kernel Size\", minimum=0, maximum=100, step=1, value=15)\n",
        "            sam_mask = gr.Button(\"Predict Mask\", variant=\"primary\").style(full_width=True, size=\"sm\")\n",
        "            lama = gr.Button(\"Inpaint Image\", variant=\"primary\").style(full_width=True, size=\"sm\")\n",
        "            clear_button_image = gr.Button(value=\"Reset\", label=\"Reset\", variant=\"secondary\").style(full_width=True, size=\"sm\")\n",
        "\n",
        "    # todo: maybe we can delete this row, for it's unnecessary to show the original mask for customers\n",
        "    with gr.Row(variant=\"panel\"):\n",
        "        with gr.Column():\n",
        "            with gr.Row():\n",
        "                gr.Markdown(\"## Segmentation Mask\")\n",
        "            with gr.Row():\n",
        "                mask_0 = gr.outputs.Image(type=\"numpy\", label=\"Segmentation Mask 0\").style(height=\"200px\")\n",
        "                mask_1 = gr.outputs.Image(type=\"numpy\", label=\"Segmentation Mask 1\").style(height=\"200px\")\n",
        "                mask_2 = gr.outputs.Image(type=\"numpy\", label=\"Segmentation Mask 2\").style(height=\"200px\")\n",
        "\n",
        "    with gr.Row(variant=\"panel\"):\n",
        "        with gr.Column():\n",
        "            with gr.Row():\n",
        "                gr.Markdown(\"## Image with Mask\")\n",
        "            with gr.Row():\n",
        "                img_with_mask_0 = gr.Plot(label=\"Image with Segmentation Mask 0\")\n",
        "                img_with_mask_1 = gr.Plot(label=\"Image with Segmentation Mask 1\")\n",
        "                img_with_mask_2 = gr.Plot(label=\"Image with Segmentation Mask 2\")\n",
        "\n",
        "    with gr.Row(variant=\"panel\"):\n",
        "        with gr.Column():\n",
        "            with gr.Row():\n",
        "                gr.Markdown(\"## Image Removed with Mask\")\n",
        "            with gr.Row():\n",
        "                img_rm_with_mask_0 = gr.outputs.Image(\n",
        "                    type=\"numpy\", label=\"Image Removed with Segmentation Mask 0\").style(height=\"200px\")\n",
        "                img_rm_with_mask_1 = gr.outputs.Image(\n",
        "                    type=\"numpy\", label=\"Image Removed with Segmentation Mask 1\").style(height=\"200px\")\n",
        "                img_rm_with_mask_2 = gr.outputs.Image(\n",
        "                    type=\"numpy\", label=\"Image Removed with Segmentation Mask 2\").style(height=\"200px\")\n",
        "\n",
        "\n",
        "    def get_select_coords(img, evt: gr.SelectData):\n",
        "        dpi = plt.rcParams['figure.dpi']\n",
        "        height, width = img.shape[:2]\n",
        "        fig = plt.figure(figsize=(width/dpi/0.77, height/dpi/0.77))\n",
        "        plt.imshow(img)\n",
        "        plt.axis('off')\n",
        "        plt.tight_layout()\n",
        "        show_points(plt.gca(), [[evt.index[0], evt.index[1]]], [1],\n",
        "                    size=(width*0.04)**2)\n",
        "        return evt.index[0], evt.index[1], fig\n",
        "\n",
        "    img.select(get_select_coords, [img], [w, h, img_pointed])\n",
        "    img.upload(get_sam_feat, [img], [features, orig_h, orig_w, input_h, input_w])\n",
        "\n",
        "    sam_mask.click(\n",
        "        get_masked_img,\n",
        "        [img, w, h, features, orig_h, orig_w, input_h, input_w, dilate_kernel_size],\n",
        "        [img_with_mask_0, img_with_mask_1, img_with_mask_2, mask_0, mask_1, mask_2]\n",
        "    )\n",
        "\n",
        "    lama.click(\n",
        "        get_inpainted_img,\n",
        "        [img, mask_0, mask_1, mask_2],\n",
        "        [img_rm_with_mask_0, img_rm_with_mask_1, img_rm_with_mask_2]\n",
        "    )\n",
        "\n",
        "\n",
        "    def reset(*args):\n",
        "        return [None for _ in args]\n",
        "\n",
        "    clear_button_image.click(\n",
        "        reset,\n",
        "        [img, features, img_pointed, w, h, mask_0, mask_1, mask_2, img_with_mask_0, img_with_mask_1, img_with_mask_2, img_rm_with_mask_0, img_rm_with_mask_1, img_rm_with_mask_2],\n",
        "        [img, features, img_pointed, w, h, mask_0, mask_1, mask_2, img_with_mask_0, img_with_mask_1, img_with_mask_2, img_rm_with_mask_0, img_rm_with_mask_1, img_rm_with_mask_2]\n",
        "    )"
      ],
      "metadata": {
        "id": "-JoT3b8P9GGi",
        "outputId": "66744e13-c25b-445f-805e-6a7f9d2245b3",
        "colab": {
          "base_uri": "https://localhost:8080/"
        }
      },
      "execution_count": null,
      "outputs": [
        {
          "output_type": "stream",
          "name": "stderr",
          "text": [
            "/usr/local/lib/python3.10/dist-packages/gradio/layouts.py:73: UserWarning: mobile_collapse is no longer supported.\n",
            "  warnings.warn(\"mobile_collapse is no longer supported.\")\n",
            "/usr/local/lib/python3.10/dist-packages/gradio/outputs.py:43: UserWarning: Usage of gradio.outputs is deprecated, and will not be supported in the future, please import your components from gradio.components\n",
            "  warnings.warn(\n"
          ]
        }
      ]
    },
    {
      "cell_type": "code",
      "source": [
        "demo.launch(share=True)"
      ],
      "metadata": {
        "id": "YPhQMNM4mSC2",
        "outputId": "3d43d2e3-7d79-454d-86d0-43607d53b2d2",
        "colab": {
          "base_uri": "https://localhost:8080/",
          "height": 626
        }
      },
      "execution_count": null,
      "outputs": [
        {
          "output_type": "stream",
          "name": "stdout",
          "text": [
            "Rerunning server... use `close()` to stop if you need to change `launch()` parameters.\n",
            "----\n",
            "Colab notebook detected. To show errors in colab notebook, set debug=True in launch()\n",
            "Running on public URL: https://985acf282fd68ec018.gradio.live\n",
            "\n",
            "This share link expires in 72 hours. For free permanent hosting and GPU upgrades, run `gradio deploy` from Terminal to deploy to Spaces (https://huggingface.co/spaces)\n"
          ]
        },
        {
          "output_type": "display_data",
          "data": {
            "text/plain": [
              "<IPython.core.display.HTML object>"
            ],
            "text/html": [
              "<div><iframe src=\"https://985acf282fd68ec018.gradio.live\" width=\"100%\" height=\"500\" allow=\"autoplay; camera; microphone; clipboard-read; clipboard-write;\" frameborder=\"0\" allowfullscreen></iframe></div>"
            ]
          },
          "metadata": {}
        },
        {
          "output_type": "execute_result",
          "data": {
            "text/plain": []
          },
          "metadata": {},
          "execution_count": 14
        }
      ]
    }
  ]
}