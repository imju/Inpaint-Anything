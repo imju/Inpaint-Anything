{
  "nbformat": 4,
  "nbformat_minor": 0,
  "metadata": {
    "colab": {
      "provenance": [],
      "authorship_tag": "ABX9TyOzRR3zfgsRCR4V5Jw+gX0j",
      "include_colab_link": true
    },
    "kernelspec": {
      "name": "python3",
      "display_name": "Python 3"
    },
    "language_info": {
      "name": "python"
    }
  },
  "cells": [
    {
      "cell_type": "markdown",
      "metadata": {
        "id": "view-in-github",
        "colab_type": "text"
      },
      "source": [
        "<a href=\"https://colab.research.google.com/github/imju/Inpaint-Anything/blob/main/colab_Inpaint_Anything_Gradio.ipynb\" target=\"_parent\"><img src=\"https://colab.research.google.com/assets/colab-badge.svg\" alt=\"Open In Colab\"/></a>"
      ]
    },
    {
      "cell_type": "code",
      "source": [
        "!pip install -Uqq torch torchvision opencv-python matplotlib tensorflow==2.13.0rc0\n",
        "!pip install -Uqq pyyaml tqdm numpy easydict scikit-image scikit-learn opencv-python\n",
        "!pip install -Uqq joblib matplotlib albumentations==0.5.2 hydra-core\n",
        "!pip install -Uqq pytorch-lightning tabulate kornia==0.5.0 webdataset packaging wldhx.yadisk-direct\n",
        "!pip install -Uqq gradio\n"
      ],
      "metadata": {
        "colab": {
          "base_uri": "https://localhost:8080/"
        },
        "id": "RTUgnBw06xX-",
        "outputId": "7ffcc0d5-f21f-4380-f828-eb858462a332"
      },
      "execution_count": 3,
      "outputs": [
        {
          "output_type": "stream",
          "name": "stdout",
          "text": [
            "\u001b[2K     \u001b[90m━━━━━━━━━━━━━━━━━━━━━━━━━━━━━━━━━━━━━━━\u001b[0m \u001b[32m524.1/524.1 MB\u001b[0m \u001b[31m1.7 MB/s\u001b[0m eta \u001b[36m0:00:00\u001b[0m\n",
            "\u001b[2K     \u001b[90m━━━━━━━━━━━━━━━━━━━━━━━━━━━━━━━━━━━━━━━━\u001b[0m \u001b[32m1.7/1.7 MB\u001b[0m \u001b[31m16.5 MB/s\u001b[0m eta \u001b[36m0:00:00\u001b[0m\n",
            "\u001b[2K     \u001b[90m━━━━━━━━━━━━━━━━━━━━━━━━━━━━━━━━━━━━━━━━\u001b[0m \u001b[32m5.6/5.6 MB\u001b[0m \u001b[31m8.7 MB/s\u001b[0m eta \u001b[36m0:00:00\u001b[0m\n",
            "\u001b[2K     \u001b[90m━━━━━━━━━━━━━━━━━━━━━━━━━━━━━━━━━━━━━━━\u001b[0m \u001b[32m440.8/440.8 kB\u001b[0m \u001b[31m5.0 MB/s\u001b[0m eta \u001b[36m0:00:00\u001b[0m\n",
            "\u001b[2K     \u001b[90m━━━━━━━━━━━━━━━━━━━━━━━━━━━━━━━━━━━━━━━━\u001b[0m \u001b[32m17.3/17.3 MB\u001b[0m \u001b[31m32.1 MB/s\u001b[0m eta \u001b[36m0:00:00\u001b[0m\n",
            "\u001b[2K     \u001b[90m━━━━━━━━━━━━━━━━━━━━━━━━━━━━━━━━━━━━━━━━\u001b[0m \u001b[32m13.8/13.8 MB\u001b[0m \u001b[31m51.0 MB/s\u001b[0m eta \u001b[36m0:00:00\u001b[0m\n",
            "\u001b[2K     \u001b[90m━━━━━━━━━━━━━━━━━━━━━━━━━━━━━━━━━━━━━━━━\u001b[0m \u001b[32m3.4/3.4 MB\u001b[0m \u001b[31m49.7 MB/s\u001b[0m eta \u001b[36m0:00:00\u001b[0m\n",
            "\u001b[2K     \u001b[90m━━━━━━━━━━━━━━━━━━━━━━━━━━━━━━━━━━━━━━\u001b[0m \u001b[32m313.2/313.2 kB\u001b[0m \u001b[31m23.0 MB/s\u001b[0m eta \u001b[36m0:00:00\u001b[0m\n",
            "\u001b[?25h\u001b[31mERROR: pip's dependency resolver does not currently take into account all the packages that are installed. This behaviour is the source of the following dependency conflicts.\n",
            "numba 0.56.4 requires numpy<1.24,>=1.18, but you have numpy 1.24.3 which is incompatible.\u001b[0m\u001b[31m\n",
            "\u001b[2K     \u001b[90m━━━━━━━━━━━━━━━━━━━━━━━━━━━━━━━━━━━━━━━━\u001b[0m \u001b[32m72.2/72.2 kB\u001b[0m \u001b[31m2.9 MB/s\u001b[0m eta \u001b[36m0:00:00\u001b[0m\n",
            "\u001b[2K     \u001b[90m━━━━━━━━━━━━━━━━━━━━━━━━━━━━━━━━━━━━━━━\u001b[0m \u001b[32m154.5/154.5 kB\u001b[0m \u001b[31m8.1 MB/s\u001b[0m eta \u001b[36m0:00:00\u001b[0m\n",
            "\u001b[2K     \u001b[90m━━━━━━━━━━━━━━━━━━━━━━━━━━━━━━━━━━━━━━━━\u001b[0m \u001b[32m79.5/79.5 kB\u001b[0m \u001b[31m8.0 MB/s\u001b[0m eta \u001b[36m0:00:00\u001b[0m\n",
            "\u001b[2K     \u001b[90m━━━━━━━━━━━━━━━━━━━━━━━━━━━━━━━━━━━━━━\u001b[0m \u001b[32m117.0/117.0 kB\u001b[0m \u001b[31m12.4 MB/s\u001b[0m eta \u001b[36m0:00:00\u001b[0m\n",
            "\u001b[?25h  Preparing metadata (setup.py) ... \u001b[?25l\u001b[?25hdone\n",
            "  Building wheel for antlr4-python3-runtime (setup.py) ... \u001b[?25l\u001b[?25hdone\n",
            "\u001b[2K     \u001b[90m━━━━━━━━━━━━━━━━━━━━━━━━━━━━━━━━━━━━━━\u001b[0m \u001b[32m719.0/719.0 kB\u001b[0m \u001b[31m11.1 MB/s\u001b[0m eta \u001b[36m0:00:00\u001b[0m\n",
            "\u001b[2K     \u001b[90m━━━━━━━━━━━━━━━━━━━━━━━━━━━━━━━━━━━━━━\u001b[0m \u001b[32m271.5/271.5 kB\u001b[0m \u001b[31m24.5 MB/s\u001b[0m eta \u001b[36m0:00:00\u001b[0m\n",
            "\u001b[2K     \u001b[90m━━━━━━━━━━━━━━━━━━━━━━━━━━━━━━━━━━━━━━━━\u001b[0m \u001b[32m51.9/51.9 kB\u001b[0m \u001b[31m6.4 MB/s\u001b[0m eta \u001b[36m0:00:00\u001b[0m\n",
            "\u001b[2K     \u001b[90m━━━━━━━━━━━━━━━━━━━━━━━━━━━━━━━━━━━━━━\u001b[0m \u001b[32m519.2/519.2 kB\u001b[0m \u001b[31m29.0 MB/s\u001b[0m eta \u001b[36m0:00:00\u001b[0m\n",
            "\u001b[2K     \u001b[90m━━━━━━━━━━━━━━━━━━━━━━━━━━━━━━━━━━━━━━━━\u001b[0m \u001b[32m1.0/1.0 MB\u001b[0m \u001b[31m38.4 MB/s\u001b[0m eta \u001b[36m0:00:00\u001b[0m\n",
            "\u001b[2K     \u001b[90m━━━━━━━━━━━━━━━━━━━━━━━━━━━━━━━━━━━━━━\u001b[0m \u001b[32m114.5/114.5 kB\u001b[0m \u001b[31m10.8 MB/s\u001b[0m eta \u001b[36m0:00:00\u001b[0m\n",
            "\u001b[2K     \u001b[90m━━━━━━━━━━━━━━━━━━━━━━━━━━━━━━━━━━━━━━\u001b[0m \u001b[32m268.8/268.8 kB\u001b[0m \u001b[31m26.7 MB/s\u001b[0m eta \u001b[36m0:00:00\u001b[0m\n",
            "\u001b[2K     \u001b[90m━━━━━━━━━━━━━━━━━━━━━━━━━━━━━━━━━━━━━━\u001b[0m \u001b[32m149.6/149.6 kB\u001b[0m \u001b[31m16.3 MB/s\u001b[0m eta \u001b[36m0:00:00\u001b[0m\n",
            "\u001b[2K     \u001b[90m━━━━━━━━━━━━━━━━━━━━━━━━━━━━━━━━━━━━━━━━\u001b[0m \u001b[32m20.0/20.0 MB\u001b[0m \u001b[31m31.9 MB/s\u001b[0m eta \u001b[36m0:00:00\u001b[0m\n",
            "\u001b[2K     \u001b[90m━━━━━━━━━━━━━━━━━━━━━━━━━━━━━━━━━━━━━━━━\u001b[0m \u001b[32m57.1/57.1 kB\u001b[0m \u001b[31m7.4 MB/s\u001b[0m eta \u001b[36m0:00:00\u001b[0m\n",
            "\u001b[?25h  Preparing metadata (setup.py) ... \u001b[?25l\u001b[?25hdone\n",
            "\u001b[2K     \u001b[90m━━━━━━━━━━━━━━━━━━━━━━━━━━━━━━━━━━━━━━\u001b[0m \u001b[32m288.1/288.1 kB\u001b[0m \u001b[31m21.5 MB/s\u001b[0m eta \u001b[36m0:00:00\u001b[0m\n",
            "\u001b[2K     \u001b[90m━━━━━━━━━━━━━━━━━━━━━━━━━━━━━━━━━━━━━━━━\u001b[0m \u001b[32m75.4/75.4 kB\u001b[0m \u001b[31m6.4 MB/s\u001b[0m eta \u001b[36m0:00:00\u001b[0m\n",
            "\u001b[2K     \u001b[90m━━━━━━━━━━━━━━━━━━━━━━━━━━━━━━━━━━━━━━\u001b[0m \u001b[32m236.8/236.8 kB\u001b[0m \u001b[31m24.2 MB/s\u001b[0m eta \u001b[36m0:00:00\u001b[0m\n",
            "\u001b[2K     \u001b[90m━━━━━━━━━━━━━━━━━━━━━━━━━━━━━━━━━━━━━━━━\u001b[0m \u001b[32m50.5/50.5 kB\u001b[0m \u001b[31m6.2 MB/s\u001b[0m eta \u001b[36m0:00:00\u001b[0m\n",
            "\u001b[2K     \u001b[90m━━━━━━━━━━━━━━━━━━━━━━━━━━━━━━━━━━━━━━\u001b[0m \u001b[32m137.0/137.0 kB\u001b[0m \u001b[31m15.8 MB/s\u001b[0m eta \u001b[36m0:00:00\u001b[0m\n",
            "\u001b[2K     \u001b[90m━━━━━━━━━━━━━━━━━━━━━━━━━━━━━━━━━━━━━━━━\u001b[0m \u001b[32m45.7/45.7 kB\u001b[0m \u001b[31m5.6 MB/s\u001b[0m eta \u001b[36m0:00:00\u001b[0m\n",
            "\u001b[2K     \u001b[90m━━━━━━━━━━━━━━━━━━━━━━━━━━━━━━━━━━━━━━━━\u001b[0m \u001b[32m58.3/58.3 kB\u001b[0m \u001b[31m7.2 MB/s\u001b[0m eta \u001b[36m0:00:00\u001b[0m\n",
            "\u001b[2K     \u001b[90m━━━━━━━━━━━━━━━━━━━━━━━━━━━━━━━━━━━━━━\u001b[0m \u001b[32m129.9/129.9 kB\u001b[0m \u001b[31m13.7 MB/s\u001b[0m eta \u001b[36m0:00:00\u001b[0m\n",
            "\u001b[2K     \u001b[90m━━━━━━━━━━━━━━━━━━━━━━━━━━━━━━━━━━━━━━━━\u001b[0m \u001b[32m58.3/58.3 kB\u001b[0m \u001b[31m6.9 MB/s\u001b[0m eta \u001b[36m0:00:00\u001b[0m\n",
            "\u001b[2K     \u001b[90m━━━━━━━━━━━━━━━━━━━━━━━━━━━━━━━━━━━━━━━━\u001b[0m \u001b[32m67.0/67.0 kB\u001b[0m \u001b[31m7.1 MB/s\u001b[0m eta \u001b[36m0:00:00\u001b[0m\n",
            "\u001b[2K     \u001b[90m━━━━━━━━━━━━━━━━━━━━━━━━━━━━━━━━━━━━━━━━\u001b[0m \u001b[32m72.5/72.5 kB\u001b[0m \u001b[31m7.9 MB/s\u001b[0m eta \u001b[36m0:00:00\u001b[0m\n",
            "\u001b[?25h  Building wheel for ffmpy (setup.py) ... \u001b[?25l\u001b[?25hdone\n"
          ]
        }
      ]
    },
    {
      "cell_type": "code",
      "source": [
        "def setup_args(parser):\n",
        "    parser.add_argument(\n",
        "        \"--lama_config\", type=str,\n",
        "        default=\"./third_party/lama/configs/prediction/default.yaml\",\n",
        "        help=\"The path to the config file of lama model. \"\n",
        "             \"Default: the config of big-lama\",\n",
        "    )\n",
        "    parser.add_argument(\n",
        "        \"--lama_ckpt\", type=str,\n",
        "        default=\"pretrained_models/big-lama\",\n",
        "        help=\"The path to the lama checkpoint.\",\n",
        "    )\n",
        "    parser.add_argument(\n",
        "        \"--sam_ckpt\", type=str,\n",
        "        default=\"./pretrained_models/sam_vit_h_4b8939.pth\",\n",
        "        help=\"The path to the SAM checkpoint to use for mask generation.\",\n",
        "    )"
      ],
      "metadata": {
        "id": "ICiaNKATIcY1"
      },
      "execution_count": 1,
      "outputs": []
    },
    {
      "cell_type": "code",
      "source": [
        "def mkstemp(suffix, dir=None):\n",
        "    fd, path = tempfile.mkstemp(suffix=f\"{suffix}\", dir=dir)\n",
        "    os.close(fd)\n",
        "    return Path(path)"
      ],
      "metadata": {
        "id": "mMOAWmPtJKYx"
      },
      "execution_count": 2,
      "outputs": []
    },
    {
      "cell_type": "code",
      "source": [
        "def get_sam_feat(img):\n",
        "    model['sam'].set_image(img)\n",
        "    features = model['sam'].features \n",
        "    orig_h = model['sam'].orig_h \n",
        "    orig_w = model['sam'].orig_w \n",
        "    input_h = model['sam'].input_h \n",
        "    input_w = model['sam'].input_w \n",
        "    model['sam'].reset_image()\n",
        "    return features, orig_h, orig_w, input_h, input_w"
      ],
      "metadata": {
        "id": "PEQRAoyAJOOp"
      },
      "execution_count": null,
      "outputs": []
    },
    {
      "cell_type": "code",
      "source": [
        "\n",
        "def get_masked_img(img, w, h, features, orig_h, orig_w, input_h, input_w, dilate_kernel_size):\n",
        "    point_coords = [w, h]\n",
        "    point_labels = [1]\n",
        "\n",
        "    model['sam'].is_image_set = True\n",
        "    model['sam'].features = features\n",
        "    model['sam'].orig_h = orig_h\n",
        "    model['sam'].orig_w = orig_w\n",
        "    model['sam'].input_h = input_h\n",
        "    model['sam'].input_w = input_w\n",
        "\n",
        "    # model['sam'].set_image(img) # todo : update here for accelerating\n",
        "    masks, _, _ = model['sam'].predict(\n",
        "        point_coords=np.array([point_coords]),\n",
        "        point_labels=np.array(point_labels),\n",
        "        multimask_output=True,\n",
        "    )\n",
        "\n",
        "    masks = masks.astype(np.uint8) * 255\n",
        "\n",
        "    # dilate mask to avoid unmasked edge effect\n",
        "    if dilate_kernel_size is not None:\n",
        "        masks = [dilate_mask(mask, dilate_kernel_size) for mask in masks]\n",
        "    else:\n",
        "        masks = [mask for mask in masks]\n",
        "\n",
        "    figs = []\n",
        "    for idx, mask in enumerate(masks):\n",
        "        # save the pointed and masked image\n",
        "        tmp_p = mkstemp(\".png\")\n",
        "        dpi = plt.rcParams['figure.dpi']\n",
        "        height, width = img.shape[:2]\n",
        "        fig = plt.figure(figsize=(width/dpi/0.77, height/dpi/0.77))\n",
        "        plt.imshow(img)\n",
        "        plt.axis('off')\n",
        "        show_points(plt.gca(), [point_coords], point_labels,\n",
        "                    size=(width*0.04)**2)\n",
        "        show_mask(plt.gca(), mask, random_color=False)\n",
        "        plt.tight_layout()\n",
        "        plt.savefig(tmp_p, bbox_inches='tight', pad_inches=0)\n",
        "        figs.append(fig)\n",
        "        plt.close()\n",
        "    return *figs, *masks\n"
      ],
      "metadata": {
        "id": "8G-y3yXeJSFf"
      },
      "execution_count": null,
      "outputs": []
    },
    {
      "cell_type": "code",
      "source": [
        "def get_inpainted_img(img, mask0, mask1, mask2):\n",
        "    lama_config = args.lama_config\n",
        "    device = \"cuda\" if torch.cuda.is_available() else \"cpu\"\n",
        "    out = []\n",
        "    for mask in [mask0, mask1, mask2]:\n",
        "        if len(mask.shape)==3:\n",
        "            mask = mask[:,:,0]\n",
        "        img_inpainted = inpaint_img_with_builded_lama(\n",
        "            model['lama'], img, mask, lama_config, device=device)\n",
        "        out.append(img_inpainted)\n",
        "    return out"
      ],
      "metadata": {
        "id": "cFfqgvpTJa8a"
      },
      "execution_count": null,
      "outputs": []
    },
    {
      "cell_type": "code",
      "source": [
        "# get args \n",
        "parser = argparse.ArgumentParser()\n",
        "setup_args(parser)\n",
        "args = parser.parse_args(sys.argv[1:])\n",
        "# build models\n",
        "model = {}\n",
        "# build the sam model\n",
        "model_type=\"vit_h\"\n",
        "ckpt_p=args.sam_ckpt\n",
        "model_sam = sam_model_registry[model_type](checkpoint=ckpt_p)\n",
        "device = \"cuda\" if torch.cuda.is_available() else \"cpu\"\n",
        "model_sam.to(device=device)\n",
        "model['sam'] = SamPredictor(model_sam)\n",
        "\n",
        "# build the lama model\n",
        "lama_config = args.lama_config\n",
        "lama_ckpt = args.lama_ckpt\n",
        "device = \"cuda\" if torch.cuda.is_available() else \"cpu\"\n",
        "model['lama'] = build_lama_model(lama_config, lama_ckpt, device=device)\n"
      ],
      "metadata": {
        "id": "Zgry7yjyJcDx"
      },
      "execution_count": null,
      "outputs": []
    },
    {
      "cell_type": "code",
      "source": [
        "button_size = (100,50)\n",
        "with gr.Blocks() as demo:\n",
        "    features = gr.State(None)\n",
        "    orig_h = gr.State(None)\n",
        "    orig_w = gr.State(None)\n",
        "    input_h = gr.State(None)\n",
        "    input_w = gr.State(None)\n",
        "\n",
        "    with gr.Row().style(mobile_collapse=False, equal_height=True):\n",
        "        with gr.Column(variant=\"panel\"):\n",
        "            with gr.Row():\n",
        "                gr.Markdown(\"## Input Image\")\n",
        "            with gr.Row():\n",
        "                img = gr.Image(label=\"Input Image\").style(height=\"200px\")\n",
        "        with gr.Column(variant=\"panel\"):\n",
        "            with gr.Row():\n",
        "                gr.Markdown(\"## Pointed Image\")\n",
        "            with gr.Row():\n",
        "                img_pointed = gr.Plot(label='Pointed Image')\n",
        "        with gr.Column(variant=\"panel\"):\n",
        "            with gr.Row():\n",
        "                gr.Markdown(\"## Control Panel\")\n",
        "            with gr.Row():\n",
        "                w = gr.Number(label=\"Point Coordinate W\")\n",
        "                h = gr.Number(label=\"Point Coordinate H\")\n",
        "            dilate_kernel_size = gr.Slider(label=\"Dilate Kernel Size\", minimum=0, maximum=100, step=1, value=15)\n",
        "            sam_mask = gr.Button(\"Predict Mask\", variant=\"primary\").style(full_width=True, size=\"sm\")\n",
        "            lama = gr.Button(\"Inpaint Image\", variant=\"primary\").style(full_width=True, size=\"sm\")\n",
        "            clear_button_image = gr.Button(value=\"Reset\", label=\"Reset\", variant=\"secondary\").style(full_width=True, size=\"sm\")\n",
        "\n",
        "    # todo: maybe we can delete this row, for it's unnecessary to show the original mask for customers\n",
        "    with gr.Row(variant=\"panel\"):\n",
        "        with gr.Column():\n",
        "            with gr.Row():\n",
        "                gr.Markdown(\"## Segmentation Mask\")\n",
        "            with gr.Row():\n",
        "                mask_0 = gr.outputs.Image(type=\"numpy\", label=\"Segmentation Mask 0\").style(height=\"200px\")\n",
        "                mask_1 = gr.outputs.Image(type=\"numpy\", label=\"Segmentation Mask 1\").style(height=\"200px\")\n",
        "                mask_2 = gr.outputs.Image(type=\"numpy\", label=\"Segmentation Mask 2\").style(height=\"200px\")\n",
        "\n",
        "    with gr.Row(variant=\"panel\"):\n",
        "        with gr.Column():\n",
        "            with gr.Row():\n",
        "                gr.Markdown(\"## Image with Mask\")\n",
        "            with gr.Row():\n",
        "                img_with_mask_0 = gr.Plot(label=\"Image with Segmentation Mask 0\")\n",
        "                img_with_mask_1 = gr.Plot(label=\"Image with Segmentation Mask 1\")\n",
        "                img_with_mask_2 = gr.Plot(label=\"Image with Segmentation Mask 2\")\n",
        "\n",
        "    with gr.Row(variant=\"panel\"):\n",
        "        with gr.Column():\n",
        "            with gr.Row():\n",
        "                gr.Markdown(\"## Image Removed with Mask\")\n",
        "            with gr.Row():\n",
        "                img_rm_with_mask_0 = gr.outputs.Image(\n",
        "                    type=\"numpy\", label=\"Image Removed with Segmentation Mask 0\").style(height=\"200px\")\n",
        "                img_rm_with_mask_1 = gr.outputs.Image(\n",
        "                    type=\"numpy\", label=\"Image Removed with Segmentation Mask 1\").style(height=\"200px\")\n",
        "                img_rm_with_mask_2 = gr.outputs.Image(\n",
        "                    type=\"numpy\", label=\"Image Removed with Segmentation Mask 2\").style(height=\"200px\")\n",
        "\n",
        "\n",
        "    def get_select_coords(img, evt: gr.SelectData):\n",
        "        dpi = plt.rcParams['figure.dpi']\n",
        "        height, width = img.shape[:2]\n",
        "        fig = plt.figure(figsize=(width/dpi/0.77, height/dpi/0.77))\n",
        "        plt.imshow(img)\n",
        "        plt.axis('off')\n",
        "        plt.tight_layout()\n",
        "        show_points(plt.gca(), [[evt.index[0], evt.index[1]]], [1],\n",
        "                    size=(width*0.04)**2)\n",
        "        return evt.index[0], evt.index[1], fig\n",
        "\n",
        "    img.select(get_select_coords, [img], [w, h, img_pointed])\n",
        "    img.upload(get_sam_feat, [img], [features, orig_h, orig_w, input_h, input_w])\n",
        "\n",
        "    sam_mask.click(\n",
        "        get_masked_img,\n",
        "        [img, w, h, features, orig_h, orig_w, input_h, input_w, dilate_kernel_size],\n",
        "        [img_with_mask_0, img_with_mask_1, img_with_mask_2, mask_0, mask_1, mask_2]\n",
        "    )\n",
        "\n",
        "    lama.click(\n",
        "        get_inpainted_img,\n",
        "        [img, mask_0, mask_1, mask_2],\n",
        "        [img_rm_with_mask_0, img_rm_with_mask_1, img_rm_with_mask_2]\n",
        "    )\n",
        "\n",
        "\n",
        "    def reset(*args):\n",
        "        return [None for _ in args]\n",
        "\n",
        "    clear_button_image.click(\n",
        "        reset,\n",
        "        [img, features, img_pointed, w, h, mask_0, mask_1, mask_2, img_with_mask_0, img_with_mask_1, img_with_mask_2, img_rm_with_mask_0, img_rm_with_mask_1, img_rm_with_mask_2],\n",
        "        [img, features, img_pointed, w, h, mask_0, mask_1, mask_2, img_with_mask_0, img_with_mask_1, img_with_mask_2, img_rm_with_mask_0, img_rm_with_mask_1, img_rm_with_mask_2]\n",
        "    )"
      ],
      "metadata": {
        "id": "lkSefAqcJjsi"
      },
      "execution_count": null,
      "outputs": []
    }
  ]
}